{
  "metadata": {
    "kernelspec": {
      "name": "python",
      "display_name": "Python (Pyodide)",
      "language": "python"
    },
    "language_info": {
      "codemirror_mode": {
        "name": "python",
        "version": 3
      },
      "file_extension": ".py",
      "mimetype": "text/x-python",
      "name": "python",
      "nbconvert_exporter": "python",
      "pygments_lexer": "ipython3",
      "version": "3.8"
    }
  },
  "nbformat_minor": 5,
  "nbformat": 4,
  "cells": [
    {
      "id": "9deae228-6dfd-493e-bf3b-2abfa59c92fc",
      "cell_type": "code",
      "source": "#Step 1: Setting Up the Environment\n#Install Required Packages: Make sure you have Python installed, then create a virtual environment and install the required packages.\npython -m venv venv\nsource venv/bin/activate  # On Windows use `venv\\Scripts\\activate`\npip install Flask Flask-JWT-Extended Flask-SQLAlchemy Flask-Migrate Flask-Marshmallow marshmallow-sqlalchemy\n#Project Structure: Create a folder structure as follows:\nemployee_management/\n├── app.py\n├── models.py\n├── schemas.py\n├── config.py\n├── requirements.txt\n├── migrations/\n└── venv/",
      "metadata": {
        "trusted": true
      },
      "outputs": [],
      "execution_count": null
    },
    {
      "id": "76b5075e-3941-4243-a435-3a49ded15cc5",
      "cell_type": "code",
      "source": "#Step 2: Configuration\n#Create a config.py file to hold the configuration for the Flask app.\n# config.py\nimport os\n\nclass Config:\n    SQLALCHEMY_DATABASE_URI = 'sqlite:///employees.db'\n    SQLALCHEMY_TRACK_MODIFICATIONS = False\n    JWT_SECRET_KEY = 'your_jwt_secret_key'  # Change this to a random secret key",
      "metadata": {
        "trusted": true
      },
      "outputs": [],
      "execution_count": null
    },
    {
      "id": "80fc65e2-4b75-4994-8196-bc6b84dacc32",
      "cell_type": "code",
      "source": "#Step 3: Models\n#Create a models.py file to define the Employee model.\n# models.py\nfrom flask_sqlalchemy import SQLAlchemy\nfrom datetime import datetime\n\ndb = SQLAlchemy()\n\nclass Employee(db.Model):\n    id = db.Column(db.Integer, primary_key=True)\n    name = db.Column(db.String(100), nullable=False)\n    email = db.Column(db.String(120), unique=True, nullable=False)\n    department = db.Column(db.String(50))\n    role = db.Column(db.String(50))\n    date_joined = db.Column(db.DateTime, default=datetime.utcnow)\n\n    def __repr__(self):\n        return f'<Employee {self.name}>'",
      "metadata": {
        "trusted": true
      },
      "outputs": [],
      "execution_count": null
    },
    {
      "id": "d41d97f1-2a39-496c-ba3e-8beb88203efa",
      "cell_type": "code",
      "source": "#Step 4: Schemas\n#Create a schemas.py file for serialization.\n# schemas.py\nfrom marshmallow_sqlalchemy import SQLAlchemyAutoSchema\nfrom models import Employee\n\nclass EmployeeSchema(SQLAlchemyAutoSchema):\n    class Meta:\n        model = Employee\n        load_instance = True",
      "metadata": {
        "trusted": true
      },
      "outputs": [],
      "execution_count": null
    },
    {
      "id": "9de93409-cca9-467a-bb5a-5d6dcd8cb3a5",
      "cell_type": "code",
      "source": "#Step 5: Main Application Logic\n#Create an app.py file for the main application logic.\n# app.py\nfrom flask import Flask, request, jsonify\nfrom flask_jwt_extended import JWTManager, create_access_token, jwt_required\nfrom models import db, Employee\nfrom schemas import EmployeeSchema\nfrom config import Config\n\napp = Flask(__name__)\napp.config.from_object(Config)\ndb.init_app(app)\njwt = JWTManager(app)\n\n# Create the database\nwith app.app_context():\n    db.create_all()\n\n# Authentication endpoint\n@app.route('/api/auth', methods=['POST'])\ndef authenticate():\n    username = request.json.get('username')\n    password = request.json.get('password')\n    # In a real application, validate username and password\n    access_token = create_access_token(identity=username)\n    return jsonify(access_token=access_token)\n\n# Create an Employee\n@app.route('/api/employees/', methods=['POST'])\n@jwt_required()\ndef create_employee():\n    schema = EmployeeSchema()\n    employee = schema.load(request.json)\n    db.session.add(employee)\n    db.session.commit()\n    return schema.dump(employee), 201\n\n# List all Employees\n@app.route('/api/employees/', methods=['GET'])\n@jwt_required()\ndef list_employees():\n    page = request.args.get('page', 1, type=int)\n    department = request.args.get('department', None)\n    role = request.args.get('role', None)\n\n    query = Employee.query\n    if department:\n        query = query.filter_by(department=department)\n    if role:\n        query = query.filter_by(role=role)\n\n    employees = query.paginate(page=page, per_page=10)\n    schema = EmployeeSchema(many=True)\n    return jsonify(schema.dump(employees.items)), 200\n\n# Retrieve a Single Employee\n@app.route('/api/employees/<int:id>/', methods=['GET'])\n@jwt_required()\ndef get_employee(id):\n    employee = Employee.query.get_or_404(id)\n    schema = EmployeeSchema()\n    return schema.dump(employee), 200\n\n# Update an Employee\n@app.route('/api/employees/<int:id>/', methods=['PUT'])\n@jwt_required()\ndef update_employee(id):\n    employee = Employee.query.get_or_404(id)\n    schema = EmployeeSchema()\n    updated_employee = schema.load(request.json, instance=employee, partial=True)  # Allow partial updates\n    db.session.commit()\n    return schema.dump(updated_employee), 200\n\n# Delete an Employee\n@app.route('/api/employees/<int:id>/', methods=['DELETE'])\n@jwt_required()\ndef delete_employee(id):\n    employee = Employee.query.get_or_404(id)\n    db.session.delete(employee)\n    db.session.commit()\n    return '', 204  # No content",
      "metadata": {
        "trusted": true
      },
      "outputs": [],
      "execution_count": null
    },
    {
      "id": "42be87ba-84c3-48cd-9b10-ac13389673df",
      "cell_type": "code",
      "source": "#Step 6: Running the Application\n#To run the application, add the following block at the end of the app.py file:\nif __name__ == '__main__':\n    app.run(debug=True)",
      "metadata": {
        "trusted": true
      },
      "outputs": [],
      "execution_count": null
    },
    {
      "id": "48b9b9be-e546-4748-8682-b839c51923f3",
      "cell_type": "code",
      "source": "#Step 7: Testing the API\n#You can use Postman to test the API endpoints. Here’s how to do it:\n\n#1: Start the Flask Server: Run the application in your terminal.\npython app.py\n\n#Authenticate:\n\n#2: Send a POST request to /api/auth with a JSON body containing the username and password.\n#Example JSON body:\n{\n  \"username\": \"your_username\",\n  \"password\": \"your_password\"\n}\n#You will receive a token in the response.\n\n#3: Add the Token to Postman:\n\n#Go to the \"Authorization\" tab in Postman for each request that requires authentication.\n#Select \"Bearer Token\" and paste the token you received from the authentication step.\n\n#4: Create Employee:\n\n#Send a POST request to /api/employees/ with a JSON body containing employee details.\n#Example JSON body:\n{\n  \"name\": \"John Doe\",\n  \"email\": \"john.doe@example.com\",\n  \"department\": \"Engineering\",\n  \"role\": \"Developer\"\n}\n\n#5: List Employees:\n\n#Send a GET request to /api/employees/ to retrieve all employees.\n#You can add query parameters for filtering (e.g., ?department=Engineering) and pagination (e.g., ?page=1).\n\n#6: Retrieve Single Employee:\n\n#Send a GET request to /api/employees/{id}/ to retrieve an employee by ID.\n\n#7: Update Employee:\n\n#Send a PUT request to /api/employees/{id}/ with the updated employee details in the JSON body.\n\n#8: Delete Employee:\n\n#Send a DELETE request to /api/employees/{id}/ to delete an employee.\n",
      "metadata": {
        "trusted": true
      },
      "outputs": [],
      "execution_count": null
    },
    {
      "id": "c8008bbd-12da-4fec-b1ee-d893f6bcf1ec",
      "cell_type": "code",
      "source": "#Step 8: Testing with Unit Tests\n## test_app.py\nimport unittest\nimport json\nfrom app import app, db\n\nclass EmployeeAPITestCase(unittest.TestCase):\n    def setUp(self):\n        self.app = app\n        self.client = self.app.test_client()\n        self.app.config['TESTING'] = True\n        self.app.config['SQLALCHEMY_DATABASE_URI'] = 'sqlite:///:memory:'\n        with self.app.app_context():\n            db.create_all()\n\n    def tearDown(self):\n        with self.app.app_context():\n            db.session.remove()\n            db.drop_all()\n\n    def test_create_employee(self):\n        response = self.client.post('/api/employees/', json={\n            \"name\": \"Jane Doe\",\n            \"email\": \"jane.doe@example.com\",\n            \"department\": \"HR\",\n            \"role\": \"Manager\"\n        })\n        self.assertEqual(response.status_code, 201)\n\n    def test_list_employees(self):\n        response = self.client.get('/api/employees/')\n        self.assertEqual(response.status_code, 200)\n\n    def test_get_employee(self):\n        response = self.client.post('/api/employees/', json={\n            \"name\": \"John Smith\",\n            \"email\": \"john.smith@example.com\",\n            \"department\": \"Engineering\",\n            \"role\": \"Developer\"\n        })\n        employee_id = json.loads(response.data)['id']\n        response = self.client.get(f'/api/employees/{employee_id}/')\n        self.assertEqual(response.status_code, 200)\n\n        def test_update_employee(self):\n        # Create an employee to update\n        response = self.client.post('/api/employees/', json={\n            \"name\": \"John Smith\",\n            \"email\": \"john.smith@example.com\",\n            \"department\": \"Engineering\",\n            \"role\": \"Developer\"\n        })\n        employee_id = json.loads(response.data)['id']\n\n        # Update the employee's information\n        response = self.client.put(f'/api/employees/{employee_id}/', json={\n            \"role\": \"Senior Developer\"\n        })\n        self.assertEqual(response.status_code, 200)\n        self.assertIn(\"Senior Developer\", str(response.data))\n\n    def test_delete_employee(self):\n        # Create an employee to delete\n        response = self.client.post('/api/employees/', json={\n            \"name\": \"Alice Johnson\",\n            \"email\": \"alice.johnson@example.com\",\n            \"department\": \"Sales\",\n            \"role\": \"Sales Representative\"\n        })\n        employee_id = json.loads(response.data)['id']\n\n        # Delete the employee\n        response = self.client.delete(f'/api/employees/{employee_id}/')\n        self.assertEqual(response.status_code, 204)\n\n        # Try to get the deleted employee\n        response = self.client.get(f'/api/employees/{employee_id}/')\n        self.assertEqual(response.status_code, 404)\n\nif __name__ == '__main__':\n    unittest.main()\n",
      "metadata": {
        "trusted": true
      },
      "outputs": [],
      "execution_count": null
    },
    {
      "id": "9e107511-cedf-4b06-8518-cdfdeede0ec6",
      "cell_type": "code",
      "source": "#Step 9: Running the Tests\n#Run the Tests: You can run the tests using the following command in your terminal:\npython -m unittest test_app.py\n#This will execute all the test cases defined in test_app.py. You should see output indicating whether the tests passed or failed.",
      "metadata": {
        "trusted": true
      },
      "outputs": [],
      "execution_count": null
    }
  ]
}